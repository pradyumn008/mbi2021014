{
 "cells": [
  {
   "cell_type": "code",
   "execution_count": 1,
   "id": "2b4b0eb8",
   "metadata": {},
   "outputs": [],
   "source": [
    "import random"
   ]
  },
  {
   "cell_type": "code",
   "execution_count": 4,
   "id": "7a27265c",
   "metadata": {},
   "outputs": [],
   "source": [
    "def create_2d_array(rows, cols):\n",
    "    l1=[]\n",
    "    for i in range(rows):\n",
    "        l1.append([])\n",
    "        for j in range(cols):\n",
    "            num1 = random.randint(0, 100)\n",
    "            l1[i].append(num1)\n",
    "    return (l1)"
   ]
  },
  {
   "cell_type": "code",
   "execution_count": 5,
   "id": "68ed2b6d",
   "metadata": {},
   "outputs": [
    {
     "data": {
      "text/plain": [
       "[[35, 95, 63], [18, 75, 95], [70, 80, 36]]"
      ]
     },
     "execution_count": 5,
     "metadata": {},
     "output_type": "execute_result"
    }
   ],
   "source": [
    "create_2d_array(3, 3)"
   ]
  },
  {
   "cell_type": "code",
   "execution_count": null,
   "id": "32d4a14d",
   "metadata": {},
   "outputs": [],
   "source": []
  }
 ],
 "metadata": {
  "kernelspec": {
   "display_name": "Python 3 (ipykernel)",
   "language": "python",
   "name": "python3"
  },
  "language_info": {
   "codemirror_mode": {
    "name": "ipython",
    "version": 3
   },
   "file_extension": ".py",
   "mimetype": "text/x-python",
   "name": "python",
   "nbconvert_exporter": "python",
   "pygments_lexer": "ipython3",
   "version": "3.10.5"
  }
 },
 "nbformat": 4,
 "nbformat_minor": 5
}
