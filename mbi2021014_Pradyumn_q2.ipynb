{
 "cells": [
  {
   "cell_type": "code",
   "execution_count": 12,
   "id": "d4a647f1",
   "metadata": {},
   "outputs": [],
   "source": [
    "import random"
   ]
  },
  {
   "cell_type": "code",
   "execution_count": 13,
   "id": "4382e210",
   "metadata": {},
   "outputs": [],
   "source": [
    "def create_2d_array(rows, cols):\n",
    "    l1=[]\n",
    "    for i in range(rows):\n",
    "        l1.append([])\n",
    "        for j in range(cols):\n",
    "            num1 = random.randint(0, 100)\n",
    "            l1[i].append(num1)\n",
    "    return (l1)"
   ]
  },
  {
   "cell_type": "code",
   "execution_count": 14,
   "id": "6b92676d",
   "metadata": {},
   "outputs": [],
   "source": [
    "l1 = create_2d_array(3, 3)"
   ]
  },
  {
   "cell_type": "code",
   "execution_count": 15,
   "id": "2530e869",
   "metadata": {},
   "outputs": [
    {
     "data": {
      "text/plain": [
       "[[15, 28, 55], [54, 71, 95], [7, 88, 41]]"
      ]
     },
     "execution_count": 15,
     "metadata": {},
     "output_type": "execute_result"
    }
   ],
   "source": [
    "l1"
   ]
  },
  {
   "cell_type": "code",
   "execution_count": 21,
   "id": "0d1033d3",
   "metadata": {},
   "outputs": [],
   "source": [
    "def sort_array(l1, col_index):\n",
    "    l1.sort(key=lambda x: x[col_index])\n",
    "    return l1"
   ]
  },
  {
   "cell_type": "code",
   "execution_count": 22,
   "id": "b8d22a1a",
   "metadata": {},
   "outputs": [
    {
     "data": {
      "text/plain": [
       "[[7, 88, 41], [15, 28, 55], [54, 71, 95]]"
      ]
     },
     "execution_count": 22,
     "metadata": {},
     "output_type": "execute_result"
    }
   ],
   "source": [
    "sort_array(l1, 2)"
   ]
  },
  {
   "cell_type": "code",
   "execution_count": null,
   "id": "78b85a1e",
   "metadata": {},
   "outputs": [],
   "source": []
  }
 ],
 "metadata": {
  "kernelspec": {
   "display_name": "Python 3 (ipykernel)",
   "language": "python",
   "name": "python3"
  },
  "language_info": {
   "codemirror_mode": {
    "name": "ipython",
    "version": 3
   },
   "file_extension": ".py",
   "mimetype": "text/x-python",
   "name": "python",
   "nbconvert_exporter": "python",
   "pygments_lexer": "ipython3",
   "version": "3.10.5"
  }
 },
 "nbformat": 4,
 "nbformat_minor": 5
}
