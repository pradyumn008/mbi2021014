{
 "cells": [
  {
   "cell_type": "code",
   "execution_count": 12,
   "id": "9eded7e4",
   "metadata": {},
   "outputs": [],
   "source": [
    "import random"
   ]
  },
  {
   "cell_type": "code",
   "execution_count": 13,
   "id": "531bcbd2",
   "metadata": {},
   "outputs": [],
   "source": [
    "def create_2d_array(rows, cols):\n",
    "    l1=[]\n",
    "    for i in range(rows):\n",
    "        l1.append([])\n",
    "        for j in range(cols):\n",
    "            num1 = random.randint(0, 100)\n",
    "            l1[i].append(num1)\n",
    "    return (l1)"
   ]
  },
  {
   "cell_type": "code",
   "execution_count": 14,
   "id": "847084b0",
   "metadata": {},
   "outputs": [],
   "source": [
    "l1 = create_2d_array(3, 3)"
   ]
  },
  {
   "cell_type": "code",
   "execution_count": 15,
   "id": "b15e820e",
   "metadata": {},
   "outputs": [
    {
     "data": {
      "text/plain": [
       "[[15, 28, 55], [54, 71, 95], [7, 88, 41]]"
      ]
     },
     "execution_count": 15,
     "metadata": {},
     "output_type": "execute_result"
    }
   ],
   "source": [
    "l1"
   ]
  },
  {
   "cell_type": "code",
   "execution_count": 10,
   "id": "8e88bf33",
   "metadata": {},
   "outputs": [],
   "source": [
    "def f2(l1, index):\n",
    "    l1.sort(key=lambda x: x[index])\n",
    "    return l1"
   ]
  },
  {
   "cell_type": "code",
   "execution_count": 11,
   "id": "0ad34a07",
   "metadata": {},
   "outputs": [
    {
     "data": {
      "text/plain": [
       "[[62, 72, 31], [10, 80, 73], [49, 14, 81]]"
      ]
     },
     "execution_count": 11,
     "metadata": {},
     "output_type": "execute_result"
    }
   ],
   "source": [
    "f2(l1, 2)"
   ]
  },
  {
   "cell_type": "code",
   "execution_count": null,
   "id": "c1e08a10",
   "metadata": {},
   "outputs": [],
   "source": []
  }
 ],
 "metadata": {
  "kernelspec": {
   "display_name": "Python 3 (ipykernel)",
   "language": "python",
   "name": "python3"
  },
  "language_info": {
   "codemirror_mode": {
    "name": "ipython",
    "version": 3
   },
   "file_extension": ".py",
   "mimetype": "text/x-python",
   "name": "python",
   "nbconvert_exporter": "python",
   "pygments_lexer": "ipython3",
   "version": "3.10.5"
  }
 },
 "nbformat": 4,
 "nbformat_minor": 5
}
